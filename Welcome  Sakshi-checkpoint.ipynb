{
 "cells": [
  {
   "cell_type": "code",
   "execution_count": 1,
   "metadata": {},
   "outputs": [
    {
     "name": "stdout",
     "output_type": "stream",
     "text": [
      "Enter your first name: Sakshi\n",
      "Enter your last name: Jaiswal\n",
      "Hello Sakshi Jaiswal\n",
      "Welcome In SPU BIGDATA ANALYTICS CLASS\n"
     ]
    }
   ],
   "source": [
    "class print_name:\n",
    "\n",
    "    def __init__(self):\n",
    "        self.greeting=\"Welcome In SPU BIGDATA ANALYTICS CLASS\"\n",
    "\n",
    "    def info(self):\n",
    "        first=input(\"Enter your first name: \")\n",
    "        last=input(\"Enter your last name: \")\n",
    "        print(\"Hello\",first + \" \"+last)\n",
    "obj=print_name()\n",
    "obj.info()\n",
    "print(obj.greeting)"
   ]
  },
  {
   "cell_type": "code",
   "execution_count": null,
   "metadata": {
    "collapsed": true
   },
   "outputs": [],
   "source": []
  }
 ],
 "metadata": {
  "kernelspec": {
   "display_name": "Python 3",
   "language": "python",
   "name": "python3"
  },
  "language_info": {
   "codemirror_mode": {
    "name": "ipython",
    "version": 3
   },
   "file_extension": ".py",
   "mimetype": "text/x-python",
   "name": "python",
   "nbconvert_exporter": "python",
   "pygments_lexer": "ipython3",
   "version": "3.6.3"
  }
 },
 "nbformat": 4,
 "nbformat_minor": 2
}
